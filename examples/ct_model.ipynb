{
 "cells": [
  {
   "cell_type": "markdown",
   "id": "9f4cf26d",
   "metadata": {},
   "source": [
    "# Model-based CT reconstruction example\n",
    "\n",
    "This notebooks solves a basic CT reconstruction problem of MNIST data using torchskadon in conjunction with torch.optim."
   ]
  },
  {
   "cell_type": "code",
   "execution_count": null,
   "id": "dec8f004",
   "metadata": {},
   "outputs": [],
   "source": [
    "%pip install torch matplotlib\n",
    "%pip install -i https://test.pypi.org/simple/ torchskradon"
   ]
  },
  {
   "cell_type": "code",
   "execution_count": null,
   "id": "695daec4",
   "metadata": {},
   "outputs": [],
   "source": [
    "import os\n",
    "\n",
    "import matplotlib.pyplot as plt\n",
    "import torch\n",
    "import torchvision\n",
    "import torchvision.transforms as transforms\n",
    "from torch.utils.data import DataLoader\n",
    "\n",
    "from torchskradon.functional import skradon"
   ]
  },
  {
   "cell_type": "markdown",
   "id": "075dd8d9",
   "metadata": {},
   "source": [
    "We choose our computing device and load the MNIST test dataset."
   ]
  },
  {
   "cell_type": "code",
   "execution_count": null,
   "id": "6882dffa",
   "metadata": {},
   "outputs": [],
   "source": [
    "device = torch.device(\"cuda\" if torch.cuda.is_available() else \"cpu\")\n",
    "\n",
    "# Load MNIST dataset\n",
    "os.makedirs(os.path.join(\"data\"), exist_ok=True)\n",
    "test_dataset = torchvision.datasets.MNIST(\n",
    "    root=os.path.join(\"data\"),\n",
    "    train=False,\n",
    "    download=True,\n",
    "    transform=transforms.ToTensor(),\n",
    ")\n",
    "\n",
    "batch_size = 8\n",
    "\n",
    "test_loader = DataLoader(test_dataset, batch_size=batch_size, shuffle=False)\n",
    "\n",
    "# Load the first batch from the dataloader\n",
    "data_iter = iter(test_loader)\n",
    "images, _ = next(data_iter)"
   ]
  },
  {
   "cell_type": "code",
   "execution_count": null,
   "id": "bcf882d1",
   "metadata": {},
   "outputs": [],
   "source": [
    "fig, axs = plt.subplots(1, batch_size, figsize=(10, 10))\n",
    "for i in range(batch_size):\n",
    "    axs[i].imshow(images[i, 0].cpu().detach().numpy(), cmap=\"gray\")\n",
    "    axs[i].set_title(f\"Image {i + 1}\")\n",
    "    axs[i].axis(\"off\")\n",
    "plt.show()"
   ]
  },
  {
   "cell_type": "markdown",
   "id": "a05cab41",
   "metadata": {},
   "source": [
    "Now we create our CT measurement data from these MNIST images. For the sake of brevity, we cheat and use the same discretization for simulation and (later) reconstruction. "
   ]
  },
  {
   "cell_type": "code",
   "execution_count": null,
   "id": "8863764a",
   "metadata": {},
   "outputs": [],
   "source": [
    "theta = torch.linspace(0.0, 180.0, 181)[:-1] # Angles from 0 to 179 degrees (see symmetry of Radon transform)\n",
    "sinograms = skradon(images, theta=theta, circle=False)"
   ]
  },
  {
   "cell_type": "code",
   "execution_count": null,
   "id": "ddcb3b09",
   "metadata": {},
   "outputs": [],
   "source": [
    "fig, axs = plt.subplots(1, batch_size, figsize=(30, 30))\n",
    "for i in range(batch_size):\n",
    "    axs[i].imshow(sinograms[i, 0].cpu().detach().numpy(), cmap=\"gray\")\n",
    "    axs[i].set_title(f\"Sinogram {i + 1}\")\n",
    "    axs[i].axis(\"off\")\n",
    "plt.show()"
   ]
  },
  {
   "cell_type": "markdown",
   "id": "3c57bad9",
   "metadata": {},
   "source": [
    "We wrap the Radon transform in a torch.nn.module. This is not necessary for our purpose, but nicely demonstrates how you can use torchskradon functions in the context of PyTorch's model logic. "
   ]
  },
  {
   "cell_type": "code",
   "execution_count": null,
   "id": "417976a4",
   "metadata": {},
   "outputs": [],
   "source": [
    "class RadonModel(torch.nn.Module):\n",
    "    def __init__(self, theta):\n",
    "        super().__init__()\n",
    "        self.theta = theta\n",
    "\n",
    "    def forward(self, x):\n",
    "        return skradon(x, theta=self.theta, circle=False)"
   ]
  },
  {
   "cell_type": "markdown",
   "id": "02dd96d7",
   "metadata": {},
   "source": [
    "Finally, we start training our model to reconstruct CT images from their respective sinograms."
   ]
  },
  {
   "cell_type": "code",
   "execution_count": null,
   "id": "760f18e5",
   "metadata": {},
   "outputs": [],
   "source": [
    "# Move data to device\n",
    "images = images.to(device)\n",
    "sinograms = sinograms.to(device)\n",
    "\n",
    "# Initialize reconstruction with zeros (or random initialization)\n",
    "reco = torch.zeros_like(images, requires_grad=True, device=device)\n",
    "\n",
    "# Set up optimizer\n",
    "optimizer = torch.optim.Adam([reco], lr=0.01)\n",
    "loss_fn = torch.nn.MSELoss()\n",
    "model = RadonModel(theta=theta).to(device)\n",
    "\n",
    "print(\"Starting image reconstruction...\")\n",
    "print(f\"Target sinogram shape: {sinograms.shape}\")\n",
    "print(f\"Reconstruction shape: {reco.shape}\")\n",
    "\n",
    "# Reconstruction loop\n",
    "for i in range(200):\n",
    "    optimizer.zero_grad()\n",
    "\n",
    "    # Forward pass: compute sinogram of current reconstruction\n",
    "    pred_sinogram = skradon(reco, theta=theta, circle=False)\n",
    "\n",
    "    # Compute loss between predicted and target sinograms\n",
    "    loss_value = loss_fn(pred_sinogram, sinograms)\n",
    "\n",
    "    # Backward pass\n",
    "    loss_value.backward()\n",
    "\n",
    "    # Update reconstruction\n",
    "    optimizer.step()\n",
    "\n",
    "    if i % 10 == 0:\n",
    "        print(f\"Iteration {i}, Loss: {loss_value.item():.6f}\")\n",
    "\n",
    "print(\"Reconstruction completed!\")"
   ]
  },
  {
   "cell_type": "code",
   "execution_count": null,
   "id": "27377faa",
   "metadata": {},
   "outputs": [],
   "source": [
    "# Visualize results\n",
    "with torch.no_grad():\n",
    "    mse = torch.nn.functional.mse_loss(reco, images)\n",
    "    print(f\"Reconstruction MSE: {mse.item():.6f}\")\n",
    "    fig, axes = plt.subplots(2, batch_size, figsize=(12, 6))\n",
    "    for i in range(batch_size):\n",
    "        # Ground-Truth image\n",
    "        axes[0, i].imshow(images[i, 0].cpu().numpy(), cmap=\"gray\")\n",
    "        axes[0, i].set_title(f\"Ground-Truth {i}\")\n",
    "        axes[0, i].axis(\"off\")\n",
    "\n",
    "        # Reconstructed image\n",
    "        axes[1, i].imshow(reco[i, 0].cpu().numpy(), cmap=\"gray\")\n",
    "        axes[1, i].set_title(f\"Reconstruction {i}\")\n",
    "        axes[1, i].axis(\"off\")\n",
    "\n",
    "    plt.tight_layout()\n",
    "    plt.show()\n"
   ]
  }
 ],
 "metadata": {
  "kernelspec": {
   "display_name": ".venv (3.12.3)",
   "language": "python",
   "name": "python3"
  },
  "language_info": {
   "codemirror_mode": {
    "name": "ipython",
    "version": 3
   },
   "file_extension": ".py",
   "mimetype": "text/x-python",
   "name": "python",
   "nbconvert_exporter": "python",
   "pygments_lexer": "ipython3",
   "version": "3.12.3"
  }
 },
 "nbformat": 4,
 "nbformat_minor": 5
}
